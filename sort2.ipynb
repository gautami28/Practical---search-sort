{
  "nbformat": 4,
  "nbformat_minor": 0,
  "metadata": {
    "colab": {
      "name": "sort2.ipynb",
      "provenance": [],
      "authorship_tag": "ABX9TyPbjO4r7Bn2LibFxrQJsc/w",
      "include_colab_link": true
    },
    "kernelspec": {
      "name": "python3",
      "display_name": "Python 3"
    },
    "language_info": {
      "name": "python"
    }
  },
  "cells": [
    {
      "cell_type": "markdown",
      "metadata": {
        "id": "view-in-github",
        "colab_type": "text"
      },
      "source": [
        "<a href=\"https://colab.research.google.com/github/gautami28/Practical---search-sort/blob/main/sort2.ipynb\" target=\"_parent\"><img src=\"https://colab.research.google.com/assets/colab-badge.svg\" alt=\"Open In Colab\"/></a>"
      ]
    },
    {
      "cell_type": "code",
      "metadata": {
        "colab": {
          "base_uri": "https://localhost:8080/"
        },
        "id": "es9f6Vaq1hfj",
        "outputId": "48c69b4e-8d10-4f67-f36a-e28914c4c51b"
      },
      "source": [
        "def insertion(a,n):\n",
        "   for i in range(1, n):\n",
        "      temp = a[i]\n",
        "      j = i-1\n",
        "      while j >=0 and temp < a[j] :\n",
        "         a[j+1] = a[j]\n",
        "         j -= 1\n",
        "      a[j+1] = temp\n",
        "\n",
        "a = []\n",
        "n = int(input(\"number of elements to be entered: \"))\n",
        "for i in range(n):\n",
        "  a.append(int(input()))\n",
        "\n",
        "\n",
        "print (\"The sorted array is: \")\n",
        "insertion(a,n)\n",
        "print(a)\n",
        "   \n"
      ],
      "execution_count": 9,
      "outputs": [
        {
          "output_type": "stream",
          "name": "stdout",
          "text": [
            "number of elements to be entered: 4\n",
            "3\n",
            "4\n",
            "1\n",
            "2\n",
            "The sorted array is: \n",
            "[1, 2, 3, 4]\n"
          ]
        }
      ]
    },
    {
      "cell_type": "code",
      "metadata": {
        "colab": {
          "base_uri": "https://localhost:8080/"
        },
        "id": "w5Z2SA4a6ca2",
        "outputId": "1c026d76-a47c-4629-9276-f07250a1abf3"
      },
      "source": [
        "def partition(a, left, right):\n",
        "  pivot = a[right]\n",
        "  i = left - 1\n",
        "  for j in range(left, right):\n",
        "    if a[j] <= pivot:\n",
        "      i = i + 1\n",
        "      (a[i], a[j]) = (a[j], a[i])\n",
        "  (a[i + 1], a[right]) = (a[right], a[i + 1])\n",
        "  return i + 1\n",
        "\n",
        "def quickSort(a, left, right):\n",
        "  if left < right:\n",
        "    p1 = partition(a, left, right)\n",
        "    quickSort(a, left, p1 - 1)\n",
        "    quickSort(a, p1 + 1, right)\n",
        "\n",
        "a = []\n",
        "n = int(input(\"number of elements to be entered: \"))\n",
        "for i in range(n):\n",
        "  a.append(int(input()))\n",
        "left = n-1\n",
        "right = 0\n",
        "\n",
        "print(\"sorted list: \")\n",
        "quickSort(a, right, left)\n",
        "print(a)"
      ],
      "execution_count": 12,
      "outputs": [
        {
          "output_type": "stream",
          "name": "stdout",
          "text": [
            "number of elements to be entered: 4\n",
            "25\n",
            "21\n",
            "20\n",
            "18\n",
            "sorted list: \n",
            "[18, 20, 21, 25]\n"
          ]
        }
      ]
    }
  ]
}