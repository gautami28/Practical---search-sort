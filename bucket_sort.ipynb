{
  "nbformat": 4,
  "nbformat_minor": 0,
  "metadata": {
    "colab": {
      "name": "bucket sort.ipynb",
      "provenance": [],
      "authorship_tag": "ABX9TyOkYkskr8BTlOLIB6kntjkt",
      "include_colab_link": true
    },
    "kernelspec": {
      "name": "python3",
      "display_name": "Python 3"
    },
    "language_info": {
      "name": "python"
    }
  },
  "cells": [
    {
      "cell_type": "markdown",
      "metadata": {
        "id": "view-in-github",
        "colab_type": "text"
      },
      "source": [
        "<a href=\"https://colab.research.google.com/github/gautami28/Practical---search-sort/blob/main/bucket_sort.ipynb\" target=\"_parent\"><img src=\"https://colab.research.google.com/assets/colab-badge.svg\" alt=\"Open In Colab\"/></a>"
      ]
    },
    {
      "cell_type": "code",
      "metadata": {
        "colab": {
          "base_uri": "https://localhost:8080/"
        },
        "id": "nhyzxDH36WTy",
        "outputId": "e5fadee8-3c35-4d16-9ebf-2af342a131ab"
      },
      "source": [
        "def bubble_sort(a):\n",
        "  swap = 0\n",
        "  for i in range(len(a)):\n",
        "    for j in range(0,len(a)-i-1):\n",
        "      if a[j]>a[j+1]:\n",
        "        temp = a[j]\n",
        "        a[j]=a[j+1]\n",
        "        a[j+1]=temp\n",
        "        swap = 1\n",
        "    if not swap:\n",
        "        break\n",
        "  return a\n",
        "\n",
        "\n",
        "def bucket_sort(b):\n",
        "  high = max(b)\n",
        "  n = len(b)\n",
        "  size = high/n\n",
        "  buck = []\n",
        "  for i in range(n):           #empty bucket of length of main list\n",
        "      buck.append([]) \n",
        "  for i in range(n):             #enter elements to bucket\n",
        "      j = int(b[i]/size)\n",
        "      if j != n:\n",
        "          buck[j].append(b[i])\n",
        "      else:\n",
        "          buck[n - 1].append(b[i])\n",
        " \n",
        "  for i in range(n):\n",
        "      bubble_sort(buck[i])\n",
        " \n",
        "  res = []\n",
        "  for i in range(n):\n",
        "      res = res + buck[i]\n",
        " \n",
        "  return res\n",
        " \n",
        "\n",
        "b = [122,46,1,11,32,200]\n",
        "print(bucket_sort(b))"
      ],
      "execution_count": 9,
      "outputs": [
        {
          "output_type": "stream",
          "name": "stdout",
          "text": [
            "[1, 11, 32, 46, 122, 200]\n"
          ]
        }
      ]
    }
  ]
}