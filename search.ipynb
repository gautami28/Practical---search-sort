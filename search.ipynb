{
  "nbformat": 4,
  "nbformat_minor": 0,
  "metadata": {
    "colab": {
      "name": "search.ipynb",
      "provenance": [],
      "collapsed_sections": [],
      "authorship_tag": "ABX9TyPmTyePE5TvAGjEsOSs0g3T",
      "include_colab_link": true
    },
    "kernelspec": {
      "display_name": "Python 3",
      "name": "python3"
    },
    "language_info": {
      "name": "python"
    }
  },
  "cells": [
    {
      "cell_type": "markdown",
      "metadata": {
        "id": "view-in-github",
        "colab_type": "text"
      },
      "source": [
        "<a href=\"https://colab.research.google.com/github/gautami28/Practical---searching/blob/main/search.ipynb\" target=\"_parent\"><img src=\"https://colab.research.google.com/assets/colab-badge.svg\" alt=\"Open In Colab\"/></a>"
      ]
    },
    {
      "cell_type": "code",
      "metadata": {
        "colab": {
          "base_uri": "https://localhost:8080/"
        },
        "id": "SYBffFhgru5R",
        "outputId": "0d6b297a-e12e-4d8f-fe8b-c9ee87659678"
      },
      "source": [
        "n = int(input(\"enter number of students: \"))\n",
        "a = []\n",
        "for i in range(n):\n",
        "  a.append(int(input()))\n",
        "\n",
        "key = int(input(\"roll number to be searched\"))\n",
        "\n",
        "def linear_search(n,key,a):\n",
        "  for i in range(n):\n",
        "    if (a[i] == key):\n",
        "      return (i)\n",
        "    else:\n",
        "      return (-1)\n",
        "\n",
        "def sentinal_search(n,key,a):\n",
        "  i=0\n",
        "  size = len(a)\n",
        "  while(a[i] != key):\n",
        "    i =i+1\n",
        "  if (i == size):\n",
        "    return (-1)\n",
        "  else:\n",
        "    return (i)\n",
        "\n",
        "result = linear_search(n,key,a)\n",
        "result1 = sentinal_search(n,key,a)\n",
        "if (result==-1):\n",
        "  print(\"element not found by linear search\")\n",
        "else:\n",
        "  print(\"element found at position by linear search\",result)\n",
        "\n",
        "if (result1==-1):\n",
        "  print(\"element not found by sentinal search\")\n",
        "else:\n",
        "  print(\"element found at position by sentinal search\",result1)"
      ],
      "execution_count": null,
      "outputs": [
        {
          "name": "stdout",
          "output_type": "stream",
          "text": [
            "enter number of students: 5\n",
            "4\n",
            "21\n",
            "85\n",
            "6\n",
            "12\n",
            "roll number to be searched4\n",
            "element found at position by linear search 0\n",
            "element found at position by sentinal search 0\n"
          ]
        }
      ]
    },
    {
      "cell_type": "code",
      "metadata": {
        "colab": {
          "base_uri": "https://localhost:8080/"
        },
        "id": "3lQ5on_FvtLM",
        "outputId": "07e3d6a2-e3bd-4815-d41b-b7adcad3a0cf"
      },
      "source": [
        "n = int(input(\"enter number of students: \"))\n",
        "a = []\n",
        "for i in range(n):\n",
        "  a.append(int(input()))\n",
        "\n",
        "key = int(input(\"roll number to be searched\"))\n",
        "\n",
        "\n",
        "\n",
        "def fibbonacci_search(n,key,a):\n",
        "  start = -1\n",
        "  f0 = 0\n",
        "  f1 = 1\n",
        "  f2 = f1 + f0\n",
        "  while (f2 < n):\n",
        "    f0 = f1\n",
        "    f1 = f2\n",
        "    f2 = f1 + f0\n",
        "\n",
        "  offset = -1\n",
        "\n",
        "  while (f2 >1):\n",
        "    i = min(offset+f0,n-1)\n",
        "\n",
        "    if (a[i]<key):\n",
        "      f2 = f1\n",
        "      f1 = f0\n",
        "      f0 = f2 - f1\n",
        "      offest = i\n",
        "    \n",
        "    elif (a[i]>key):\n",
        "      f2 = f1\n",
        "      f1 = f1 - f0\n",
        "      f0 = f2 - f1\n",
        "    else:\n",
        "      return i\n",
        "  if (f1 and a[n-1] == key):\n",
        "    return (n-1)\n",
        "  return (-1)\n",
        "\n",
        "result1 =fibbonacci_search(n,key,a)\n",
        "\n",
        "\n",
        "if (result1==-1):\n",
        "  print(\"element not found by fibbonacci search\")\n",
        "else:\n",
        "  print(\"element found at position by fibbonacci search\",result1)"
      ],
      "execution_count": 4,
      "outputs": [
        {
          "output_type": "stream",
          "name": "stdout",
          "text": [
            "enter number of students: 4\n",
            "2\n",
            "4\n",
            "8\n",
            "12\n",
            "roll number to be searched4\n",
            "element found at position by fibbonacci search 1\n"
          ]
        }
      ]
    },
    {
      "cell_type": "code",
      "metadata": {
        "colab": {
          "base_uri": "https://localhost:8080/"
        },
        "id": "a1PF0SQrfphA",
        "outputId": "971ec61b-5366-4a61-bb92-35f67b21d25f"
      },
      "source": [
        "n = int(input(\"enter number of students: \"))\n",
        "a = []\n",
        "for i in range(n):\n",
        "  a.append(int(input()))\n",
        "\n",
        "key = int(input(\"roll number to be searched\"))\n",
        "\n",
        "def binary_search(n,key,a):\n",
        "  i=0\n",
        "  j=n-1\n",
        "  k = 0\n",
        "  while(i<=j):\n",
        "    k = k+1\n",
        "    c = (i+j)//2\n",
        "    if (key == a[c]):\n",
        "      return (c)\n",
        "    elif (key < a[c]):\n",
        "      j = c-1\n",
        "    else:\n",
        "      j = c+1\n",
        "  return (-1)\n",
        "\n",
        "result = binary_search(n,key,a)\n",
        "if (result==-1):\n",
        "  print(\"element not found by binary search\")\n",
        "else:\n",
        "  print(\"element found at position by binary search\",result)"
      ],
      "execution_count": 3,
      "outputs": [
        {
          "output_type": "stream",
          "name": "stdout",
          "text": [
            "enter number of students: 4\n",
            "12\n",
            "14\n",
            "25\n",
            "30\n",
            "roll number to be searched12\n",
            "element found at position by binary search 0\n"
          ]
        }
      ]
    }
  ]
}