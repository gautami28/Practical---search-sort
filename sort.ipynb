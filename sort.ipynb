{
  "nbformat": 4,
  "nbformat_minor": 0,
  "metadata": {
    "colab": {
      "name": "sort.ipynb",
      "provenance": [],
      "authorship_tag": "ABX9TyMDitSW8awKU/2fAVXtZ7AX",
      "include_colab_link": true
    },
    "kernelspec": {
      "name": "python3",
      "display_name": "Python 3"
    },
    "language_info": {
      "name": "python"
    }
  },
  "cells": [
    {
      "cell_type": "markdown",
      "metadata": {
        "id": "view-in-github",
        "colab_type": "text"
      },
      "source": [
        "<a href=\"https://colab.research.google.com/github/gautami28/Practical---search-sort/blob/main/sort.ipynb\" target=\"_parent\"><img src=\"https://colab.research.google.com/assets/colab-badge.svg\" alt=\"Open In Colab\"/></a>"
      ]
    },
    {
      "cell_type": "code",
      "metadata": {
        "colab": {
          "base_uri": "https://localhost:8080/"
        },
        "id": "iQe1Ht4ZgK_4",
        "outputId": "b8963df3-c2c1-473a-d1d2-131e62e599b6"
      },
      "source": [
        "def bubble_sort(a):\n",
        "  swap = 0\n",
        "  for i in range(len(a)):\n",
        "    for j in range(0,len(a)-i-1):\n",
        "      if a[j]>a[j+1]:\n",
        "        temp = a[j]\n",
        "        a[j]=a[j+1]\n",
        "        a[j+1]=temp\n",
        "        swap = 1\n",
        "    if not swap:\n",
        "        break\n",
        "  \n",
        "n = int(input(\"enter number limit: \"))\n",
        "a = []\n",
        "print(\"enter percentage of students: \")\n",
        "for i in range(n):\n",
        "  a.append(int(input()))\n",
        "\n",
        "bubble_sort(a)\n",
        "print(a)\n",
        "print(\"top 5: \")\n",
        "print(a[:5])"
      ],
      "execution_count": 13,
      "outputs": [
        {
          "output_type": "stream",
          "name": "stdout",
          "text": [
            "enter number limit: 6\n",
            "enter percentage of students: \n",
            "98\n",
            "56\n",
            "64\n",
            "21\n",
            "37\n",
            "88\n",
            "[21, 37, 56, 64, 88, 98]\n",
            "top 5: \n",
            "[21, 37, 56, 64, 88]\n"
          ]
        }
      ]
    },
    {
      "cell_type": "code",
      "metadata": {
        "colab": {
          "base_uri": "https://localhost:8080/"
        },
        "id": "O1QZ_fiEwlqy",
        "outputId": "3dc08ff7-df75-4c84-fa97-ff5dd35f37e5"
      },
      "source": [
        "def merge_sort(a):\n",
        "  if len(a)>1:\n",
        "    m = len(a)//2\n",
        "    l = a[:m]\n",
        "    r = a[m:]\n",
        "\n",
        "    merge_sort(l)\n",
        "    merge_sort(r)\n",
        "\n",
        "    i = 0\n",
        "    j = 0\n",
        "    k = 0\n",
        "\n",
        "    while (i<len(l) and j<len(r)):\n",
        "      if l[i] < r[j]:\n",
        "        a[k] = l[i]\n",
        "        i+=1\n",
        "      else:\n",
        "        a[k] = r[j]\n",
        "        j += 1 \n",
        "      k += 1\n",
        "\n",
        "    while (i<len(l)):\n",
        "      a[k] = l[i]\n",
        "      i+=1\n",
        "      k+=1\n",
        "\n",
        "    while (j<len(r)):\n",
        "      a[k] = r[j]\n",
        "      j+=1\n",
        "      k+=1\n",
        "\n",
        "n = int(input(\"enter number limit: \"))\n",
        "a = []\n",
        "print(\"enter percentage of students: \")\n",
        "for i in range(n):\n",
        "  a.append(int(input()))\n",
        "\n",
        "merge_sort(a)\n",
        "print(a)"
      ],
      "execution_count": 15,
      "outputs": [
        {
          "output_type": "stream",
          "name": "stdout",
          "text": [
            "enter number limit: 5\n",
            "enter percentage of students: \n",
            "24\n",
            "88\n",
            "98\n",
            "55\n",
            "63\n",
            "[24, 55, 63, 88, 98]\n"
          ]
        }
      ]
    }
  ]
}